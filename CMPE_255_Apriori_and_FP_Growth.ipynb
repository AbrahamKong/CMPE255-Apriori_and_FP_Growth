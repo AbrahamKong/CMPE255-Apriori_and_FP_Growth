{
  "nbformat": 4,
  "nbformat_minor": 0,
  "metadata": {
    "colab": {
      "name": "CMPE 255 - Apriori and FP Growth.ipynb",
      "provenance": [],
      "authorship_tag": "ABX9TyMHF/yC65jB1U1Ocr3uek21",
      "include_colab_link": true
    },
    "kernelspec": {
      "name": "python3",
      "display_name": "Python 3"
    },
    "language_info": {
      "name": "python"
    }
  },
  "cells": [
    {
      "cell_type": "markdown",
      "metadata": {
        "id": "view-in-github",
        "colab_type": "text"
      },
      "source": [
        "<a href=\"https://colab.research.google.com/github/AbrahamKong/CMPE255-Apriori_and_FP_Growth/blob/main/CMPE_255_Apriori_and_FP_Growth.ipynb\" target=\"_parent\"><img src=\"https://colab.research.google.com/assets/colab-badge.svg\" alt=\"Open In Colab\"/></a>"
      ]
    },
    {
      "cell_type": "code",
      "source": [
        "!pip install apyori\n",
        "!pip install mlxtend"
      ],
      "metadata": {
        "colab": {
          "base_uri": "https://localhost:8080/"
        },
        "id": "qw3T2ZxtAzzh",
        "outputId": "64fb03ca-9067-4c74-ae0f-74125b4a6009"
      },
      "execution_count": 1,
      "outputs": [
        {
          "output_type": "stream",
          "name": "stdout",
          "text": [
            "Collecting apyori\n",
            "  Downloading apyori-1.1.2.tar.gz (8.6 kB)\n",
            "Building wheels for collected packages: apyori\n",
            "  Building wheel for apyori (setup.py) ... \u001b[?25l\u001b[?25hdone\n",
            "  Created wheel for apyori: filename=apyori-1.1.2-py3-none-any.whl size=5974 sha256=14e207008f21edc5f53c16fd3e6f0d2d051fc0207a6eb425cba042e76ef67bf4\n",
            "  Stored in directory: /root/.cache/pip/wheels/cb/f6/e1/57973c631d27efd1a2f375bd6a83b2a616c4021f24aab84080\n",
            "Successfully built apyori\n",
            "Installing collected packages: apyori\n",
            "Successfully installed apyori-1.1.2\n",
            "Requirement already satisfied: mlxtend in /usr/local/lib/python3.7/dist-packages (0.14.0)\n",
            "Requirement already satisfied: numpy>=1.10.4 in /usr/local/lib/python3.7/dist-packages (from mlxtend) (1.19.5)\n",
            "Requirement already satisfied: matplotlib>=1.5.1 in /usr/local/lib/python3.7/dist-packages (from mlxtend) (3.2.2)\n",
            "Requirement already satisfied: pandas>=0.17.1 in /usr/local/lib/python3.7/dist-packages (from mlxtend) (1.1.5)\n",
            "Requirement already satisfied: setuptools in /usr/local/lib/python3.7/dist-packages (from mlxtend) (57.4.0)\n",
            "Requirement already satisfied: scikit-learn>=0.18 in /usr/local/lib/python3.7/dist-packages (from mlxtend) (1.0.1)\n",
            "Requirement already satisfied: scipy>=0.17 in /usr/local/lib/python3.7/dist-packages (from mlxtend) (1.4.1)\n",
            "Requirement already satisfied: pyparsing!=2.0.4,!=2.1.2,!=2.1.6,>=2.0.1 in /usr/local/lib/python3.7/dist-packages (from matplotlib>=1.5.1->mlxtend) (3.0.6)\n",
            "Requirement already satisfied: kiwisolver>=1.0.1 in /usr/local/lib/python3.7/dist-packages (from matplotlib>=1.5.1->mlxtend) (1.3.2)\n",
            "Requirement already satisfied: python-dateutil>=2.1 in /usr/local/lib/python3.7/dist-packages (from matplotlib>=1.5.1->mlxtend) (2.8.2)\n",
            "Requirement already satisfied: cycler>=0.10 in /usr/local/lib/python3.7/dist-packages (from matplotlib>=1.5.1->mlxtend) (0.11.0)\n",
            "Requirement already satisfied: pytz>=2017.2 in /usr/local/lib/python3.7/dist-packages (from pandas>=0.17.1->mlxtend) (2018.9)\n",
            "Requirement already satisfied: six>=1.5 in /usr/local/lib/python3.7/dist-packages (from python-dateutil>=2.1->matplotlib>=1.5.1->mlxtend) (1.15.0)\n",
            "Requirement already satisfied: threadpoolctl>=2.0.0 in /usr/local/lib/python3.7/dist-packages (from scikit-learn>=0.18->mlxtend) (3.0.0)\n",
            "Requirement already satisfied: joblib>=0.11 in /usr/local/lib/python3.7/dist-packages (from scikit-learn>=0.18->mlxtend) (1.1.0)\n"
          ]
        }
      ]
    },
    {
      "cell_type": "code",
      "source": [
        "# upgrade to current version, in case sometimes Google Colab has an older version\n",
        "\n",
        "%pip install mlxtend --upgrade"
      ],
      "metadata": {
        "colab": {
          "base_uri": "https://localhost:8080/"
        },
        "id": "8JxQoF98BHjG",
        "outputId": "0c28e4c3-e158-448d-bdea-d8c4fbc12f46"
      },
      "execution_count": 2,
      "outputs": [
        {
          "output_type": "stream",
          "name": "stdout",
          "text": [
            "Requirement already satisfied: mlxtend in /usr/local/lib/python3.7/dist-packages (0.14.0)\n",
            "Collecting mlxtend\n",
            "  Downloading mlxtend-0.19.0-py2.py3-none-any.whl (1.3 MB)\n",
            "\u001b[K     |████████████████████████████████| 1.3 MB 5.0 MB/s \n",
            "\u001b[?25hRequirement already satisfied: joblib>=0.13.2 in /usr/local/lib/python3.7/dist-packages (from mlxtend) (1.1.0)\n",
            "Requirement already satisfied: scikit-learn>=0.20.3 in /usr/local/lib/python3.7/dist-packages (from mlxtend) (1.0.1)\n",
            "Requirement already satisfied: numpy>=1.16.2 in /usr/local/lib/python3.7/dist-packages (from mlxtend) (1.19.5)\n",
            "Requirement already satisfied: pandas>=0.24.2 in /usr/local/lib/python3.7/dist-packages (from mlxtend) (1.1.5)\n",
            "Requirement already satisfied: scipy>=1.2.1 in /usr/local/lib/python3.7/dist-packages (from mlxtend) (1.4.1)\n",
            "Requirement already satisfied: setuptools in /usr/local/lib/python3.7/dist-packages (from mlxtend) (57.4.0)\n",
            "Requirement already satisfied: matplotlib>=3.0.0 in /usr/local/lib/python3.7/dist-packages (from mlxtend) (3.2.2)\n",
            "Requirement already satisfied: python-dateutil>=2.1 in /usr/local/lib/python3.7/dist-packages (from matplotlib>=3.0.0->mlxtend) (2.8.2)\n",
            "Requirement already satisfied: cycler>=0.10 in /usr/local/lib/python3.7/dist-packages (from matplotlib>=3.0.0->mlxtend) (0.11.0)\n",
            "Requirement already satisfied: kiwisolver>=1.0.1 in /usr/local/lib/python3.7/dist-packages (from matplotlib>=3.0.0->mlxtend) (1.3.2)\n",
            "Requirement already satisfied: pyparsing!=2.0.4,!=2.1.2,!=2.1.6,>=2.0.1 in /usr/local/lib/python3.7/dist-packages (from matplotlib>=3.0.0->mlxtend) (3.0.6)\n",
            "Requirement already satisfied: pytz>=2017.2 in /usr/local/lib/python3.7/dist-packages (from pandas>=0.24.2->mlxtend) (2018.9)\n",
            "Requirement already satisfied: six>=1.5 in /usr/local/lib/python3.7/dist-packages (from python-dateutil>=2.1->matplotlib>=3.0.0->mlxtend) (1.15.0)\n",
            "Requirement already satisfied: threadpoolctl>=2.0.0 in /usr/local/lib/python3.7/dist-packages (from scikit-learn>=0.20.3->mlxtend) (3.0.0)\n",
            "Installing collected packages: mlxtend\n",
            "  Attempting uninstall: mlxtend\n",
            "    Found existing installation: mlxtend 0.14.0\n",
            "    Uninstalling mlxtend-0.14.0:\n",
            "      Successfully uninstalled mlxtend-0.14.0\n",
            "Successfully installed mlxtend-0.19.0\n"
          ]
        }
      ]
    },
    {
      "cell_type": "code",
      "source": [
        "# import necessary library\n",
        "\n",
        "import pandas as pd\n",
        "import numpy as np\n",
        "from apyori import apriori\n",
        "from mlxtend.preprocessing import TransactionEncoder"
      ],
      "metadata": {
        "id": "di0nZn5eBCdh"
      },
      "execution_count": null,
      "outputs": []
    },
    {
      "cell_type": "code",
      "source": [
        "# Using data from earlier assignment in CMPE 256\n",
        "\n",
        "df = pd.read_csv(\"https://ghcdn.rawgit.org/AbrahamKong/CMPE256-Apriori_Assignment/main/TRAIN-ARULES.csv\")\n",
        "df.head()"
      ],
      "metadata": {
        "id": "4t4q6j7_BY__"
      },
      "execution_count": null,
      "outputs": []
    },
    {
      "cell_type": "code",
      "source": [
        "# transform data set to meet the apriori function requirements\n",
        "\n",
        "# Group data by order_id as instruction\n",
        "# Transfer product names into a list for each transaction\n",
        "df_grouped = df.groupby(by = ['order_id'])['product_name'].apply(list).reset_index(name='product_name')"
      ],
      "metadata": {
        "id": "kfHfknElBjyZ"
      },
      "execution_count": null,
      "outputs": []
    },
    {
      "cell_type": "code",
      "source": [
        "# Unpack list into their own column\n",
        "df_grouped = df_grouped['product_name'].apply(pd.Series)"
      ],
      "metadata": {
        "id": "JsULhsegBsEg"
      },
      "execution_count": null,
      "outputs": []
    },
    {
      "cell_type": "code",
      "source": [
        "# Trasform dataframe into a list to meet the apriori requirements\n",
        "data = df_grouped.astype(str).values.tolist()"
      ],
      "metadata": {
        "id": "8gzYlDoGBsI0"
      },
      "execution_count": null,
      "outputs": []
    },
    {
      "cell_type": "code",
      "source": [
        "# remove mull value from each row\n",
        "data = [[ele for ele in sub if ele != 'nan'] for sub in data]"
      ],
      "metadata": {
        "id": "GRDorpnCBsKo"
      },
      "execution_count": null,
      "outputs": []
    },
    {
      "cell_type": "markdown",
      "source": [
        "**Apriori Algorithm**"
      ],
      "metadata": {
        "id": "grriev6pB-8R"
      }
    },
    {
      "cell_type": "code",
      "source": [
        "# Apply apriori algorithm\n",
        "association_rules = apriori(transactions = data, min_support=0.005) \n",
        "association_results = list(association_rules)\n",
        "apriori_result = pd.DataFrame(association_results)"
      ],
      "metadata": {
        "id": "QRGBYkPSBsNj"
      },
      "execution_count": null,
      "outputs": []
    },
    {
      "cell_type": "code",
      "source": [
        "apriori_result.head()"
      ],
      "metadata": {
        "id": "UEtc1xD2BzqC"
      },
      "execution_count": null,
      "outputs": []
    },
    {
      "cell_type": "code",
      "source": [
        "apriori_result['ordered_statistics'][0]"
      ],
      "metadata": {
        "id": "C3kYVeJNB1x9"
      },
      "execution_count": null,
      "outputs": []
    },
    {
      "cell_type": "markdown",
      "source": [
        "**FP Growth**"
      ],
      "metadata": {
        "id": "MISAIMQQCDHh"
      }
    },
    {
      "cell_type": "code",
      "source": [
        "# instantiate a transaction encoder\n",
        "my_transactionencoder = TransactionEncoder()\n",
        "\n",
        "# fit the transaction encoder using the list of transaction tuples\n",
        "my_transactionencoder.fit(transactions)\n",
        "\n",
        "# transform the list of transaction tuples into an array of encoded transactions\n",
        "encoded_transactions = my_transactionencoder.transform(transactions)\n",
        "\n",
        "# convert the array of encoded transactions into a dataframe\n",
        "encoded_transactions_df = pd.DataFrame(encoded_transactions, columns=my_transactionencoder.columns_)\n",
        "encoded_transactions_df"
      ],
      "metadata": {
        "id": "wExNoHFQCFXo"
      },
      "execution_count": null,
      "outputs": []
    },
    {
      "cell_type": "code",
      "source": [
        "# our min support is 7, but it has to be expressed as a percentage for mlxtend\n",
        "min_support = 7/len(transactions) \n",
        "\n",
        "# compute the frequent itemsets using fpgriowth from mlxtend\n",
        "from mlxtend.frequent_patterns.fpgrowth import fpgrowth\n",
        "frequent_itemsets = fpgrowth(encoded_transactions_df, min_support=min_support, use_colnames = True)\n",
        "\n",
        "# print the frequent itemsets\n",
        "frequent_itemsets"
      ],
      "metadata": {
        "id": "1pS3Cd3jCKJD"
      },
      "execution_count": null,
      "outputs": []
    },
    {
      "cell_type": "markdown",
      "source": [
        "**Reference**\n",
        "\n",
        "\n",
        "[The FP Growth algorithm](https://towardsdatascience.com/the-fp-growth-algorithm-1ffa20e839b8)"
      ],
      "metadata": {
        "id": "04MbHv9zAoKa"
      }
    }
  ]
}